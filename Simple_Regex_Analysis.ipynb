{
 "cells": [
  {
   "cell_type": "markdown",
   "metadata": {},
   "source": [
    "PART A\n",
    "Find a list of all of all of the names in the following string using regex."
   ]
  },
  {
   "cell_type": "code",
   "execution_count": 7,
   "metadata": {},
   "outputs": [
    {
     "data": {
      "text/plain": [
       "['Amy', 'Mary', 'Ruth', 'Peter']"
      ]
     },
     "execution_count": 7,
     "metadata": {},
     "output_type": "execute_result"
    }
   ],
   "source": [
    "import re\n",
    "def names():\n",
    "    simple_string = \"\"\"Amy is 5 years old, and her sister Mary is 2 years old. \n",
    "    Ruth and Peter, their parents, have 3 kids.\"\"\"\n",
    "\n",
    "    # YOUR CODE HERE\n",
    "    result = []\n",
    "    for item in re.finditer(r'([A-Z][a-z]*)',simple_string):\n",
    "        result.append(item.group(0))\n",
    "    return result\n",
    "    raise NotImplementedError()\n",
    "names()    "
   ]
  },
  {
   "cell_type": "code",
   "execution_count": 8,
   "metadata": {},
   "outputs": [],
   "source": [
    "assert len(names()) == 4, \"There are four names in the simple_string\""
   ]
  },
  {
   "cell_type": "markdown",
   "metadata": {},
   "source": [
    "PART B\n",
    "The dataset file in assets/grades.txt contains a line separated list of people with their grade in a class. Create a regex to generate a list of just those students who received a B in the course."
   ]
  },
  {
   "cell_type": "code",
   "execution_count": 10,
   "metadata": {},
   "outputs": [
    {
     "data": {
      "text/plain": [
       "['Bell Kassulke',\n",
       " 'Simon Loidl',\n",
       " 'Elias Jovanovic',\n",
       " 'Hakim Botros',\n",
       " 'Emilie Lorentsen',\n",
       " 'Jake Wood',\n",
       " 'Fatemeh Akhtar',\n",
       " 'Kim Weston',\n",
       " 'Yasmin Dar',\n",
       " 'Viswamitra Upandhye',\n",
       " 'Killian Kaufman',\n",
       " 'Elwood Page',\n",
       " 'Elodie Booker',\n",
       " 'Adnan Chen',\n",
       " 'Hank Spinka',\n",
       " 'Hannah Bayer']"
      ]
     },
     "execution_count": 10,
     "metadata": {},
     "output_type": "execute_result"
    }
   ],
   "source": [
    "import re\n",
    "def grades():\n",
    "    with open (\"grades.txt\", \"r\") as file:\n",
    "        grades = file.read()\n",
    "\n",
    "    # YOUR CODE HERE\n",
    "    result = []\n",
    "    for item in re.finditer(r'([A-Za-z]* [A-Za-z]*)(: B)',grades):\n",
    "        result.append(item.group(1))\n",
    "    return result    \n",
    "    #raise NotImplementedError()\n",
    "grades()    "
   ]
  },
  {
   "cell_type": "code",
   "execution_count": 4,
   "metadata": {},
   "outputs": [],
   "source": [
    "assert len(grades()) == 16"
   ]
  },
  {
   "cell_type": "markdown",
   "metadata": {},
   "source": [
    "PART C\n",
    "Consider the standard web log file in assets/logdata.txt. This file records the access a user makes when visiting a web page (like this one!). Each line of the log has the following items:\n",
    "\n",
    "a host (e.g., '146.204.224.152')\n",
    "a user_name (e.g., 'feest6811' note: sometimes the user name is missing! In this case, use '-' as the value for the username.)\n",
    "the time a request was made (e.g., '21/Jun/2019:15:45:24 -0700')\n",
    "the post request type (e.g., 'POST /incentivize HTTP/1.1' note: not everything is a POST!)\n",
    "Your task is to convert this into a list of dictionaries, where each dictionary looks like the following:\n",
    "\n",
    "example_dict = {\"host\":\"146.204.224.152\", \n",
    "                \"user_name\":\"feest6811\", \n",
    "                \"time\":\"21/Jun/2019:15:45:24 -0700\",\n",
    "                \"request\":\"POST /incentivize HTTP/1.1\"}"
   ]
  },
  {
   "cell_type": "code",
   "execution_count": 16,
   "metadata": {},
   "outputs": [
    {
     "name": "stdout",
     "output_type": "stream",
     "text": [
      "{'host': '146.204.224.152', 'user_name': 'feest6811', 'time': '21/Jun/2019:15:45:24 -0700', 'request': 'POST /incentivize HTTP/1.1'}\n",
      "979\n"
     ]
    }
   ],
   "source": [
    "import re\n",
    "def logs():\n",
    "    with open(\"logdata.txt\", \"r\") as file:\n",
    "        logdata = file.read()\n",
    "    \n",
    "    # YOUR CODE HERE\n",
    "    \n",
    "    pattern = r\"\"\"\n",
    "    (?P<host>[\\d.]+)\n",
    "    (\\s-\\s)\n",
    "    (?P<user_name>[\\w\\d-]*)\n",
    "    \\s\\[\n",
    "    (?P<time>\\d{1,2}/\\w{3}/\\d{4}:\\d{2}:\\d{2}:\\d{2}\\s[-]\\d{4})\n",
    "    \\]\\s\"\n",
    "    (?P<request>\\w+\\s\\S+\\sHTTP/\\d+\\.\\d*)  \n",
    "    \"\\s\\d+\\s\\d+\"\"\"\n",
    "    #raise NotImplementedError()\n",
    "    loglist = []\n",
    "    for item in re.finditer(pattern,logdata,re.VERBOSE):\n",
    "        entry = item.groupdict()\n",
    "        if entry['user_name'] == '–':\n",
    "            entry['user_name'] = '-'\n",
    "        loglist.append(entry)    \n",
    "    return loglist\n",
    "\n",
    "print(logs()[0])        \n",
    "print(len(logs()))"
   ]
  },
  {
   "cell_type": "code",
   "execution_count": 17,
   "metadata": {},
   "outputs": [],
   "source": [
    "assert len(logs()) == 979\n",
    "\n",
    "one_item={'host': '146.204.224.152',\n",
    "  'user_name': 'feest6811',\n",
    "  'time': '21/Jun/2019:15:45:24 -0700',\n",
    "  'request': 'POST /incentivize HTTP/1.1'}\n",
    "assert one_item in logs(), \"Sorry, this item should be in the log results, check your formating\"\n"
   ]
  }
 ],
 "metadata": {
  "kernelspec": {
   "display_name": "Python 3.12.4 ('myenv')",
   "language": "python",
   "name": "python3"
  },
  "language_info": {
   "codemirror_mode": {
    "name": "ipython",
    "version": 3
   },
   "file_extension": ".py",
   "mimetype": "text/x-python",
   "name": "python",
   "nbconvert_exporter": "python",
   "pygments_lexer": "ipython3",
   "version": "3.12.4"
  },
  "orig_nbformat": 4,
  "vscode": {
   "interpreter": {
    "hash": "63c49e8d1e646aa190844836d1cfc5ee1f530ae32fef9584fc84302df7dcdbd1"
   }
  }
 },
 "nbformat": 4,
 "nbformat_minor": 2
}
